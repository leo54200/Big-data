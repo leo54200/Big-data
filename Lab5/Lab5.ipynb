{
 "cells": [
  {
   "cell_type": "code",
   "execution_count": 1,
   "id": "8726e22a-70a4-4ab4-ae05-19eda74a3707",
   "metadata": {},
   "outputs": [],
   "source": [
    "#Task1 "
   ]
  },
  {
   "cell_type": "code",
   "execution_count": 2,
   "id": "031b211a-4b3f-4170-a10f-146887113ae6",
   "metadata": {},
   "outputs": [],
   "source": [
    "input_RDD =  sc.textFile(\"/data/students/bigdata-01QYD/Lab2/\")"
   ]
  },
  {
   "cell_type": "code",
   "execution_count": 3,
   "id": "0a3bc98f-d866-41c8-a6e4-3ae35227607a",
   "metadata": {},
   "outputs": [],
   "source": [
    "filtered_RDD = input_RDD.filter(lambda w: w.startswith(\"ho\"))"
   ]
  },
  {
   "cell_type": "code",
   "execution_count": 4,
   "id": "5e1c9b45-b5c2-4e04-80c9-41fb15c8e7c8",
   "metadata": {},
   "outputs": [],
   "source": [
    "#filtered_RDD.collect()"
   ]
  },
  {
   "cell_type": "code",
   "execution_count": 5,
   "id": "3a7810dd-cb3b-4af4-9b2c-f15b89f0eddd",
   "metadata": {},
   "outputs": [],
   "source": [
    "#filtered_RDD.saveAsTextFile(\"Spark_Output/Output_Lab5_1\")"
   ]
  },
  {
   "cell_type": "code",
   "execution_count": 6,
   "id": "7e24bc6b-9ea7-4009-a14f-ba5b4d4ec60b",
   "metadata": {},
   "outputs": [
    {
     "name": "stderr",
     "output_type": "stream",
     "text": [
      "                                                                                \r"
     ]
    }
   ],
   "source": [
    "num_lines = filtered_RDD.count()\n",
    "maxfreq_RDD= filtered_RDD.map(lambda line: float(line.split(\"\\t\")[1]))\n",
    "maxfreq = maxfreq_RDD.reduce(lambda v1, v2: max(v1, v2))"
   ]
  },
  {
   "cell_type": "code",
   "execution_count": 7,
   "id": "ba732f7a-b62d-4671-b836-73555ef4052f",
   "metadata": {},
   "outputs": [
    {
     "name": "stdout",
     "output_type": "stream",
     "text": [
      "Lines' number: 1913\n",
      "Maximum frequency: 39399.0\n"
     ]
    }
   ],
   "source": [
    "print(\"Lines' number: \" + str(num_lines))\n",
    "print(\"Maximum frequency: \" + str(maxfreq))"
   ]
  },
  {
   "cell_type": "code",
   "execution_count": null,
   "id": "97692546-e0a8-4baf-b956-f2ab8d31da86",
   "metadata": {},
   "outputs": [],
   "source": [
    "#Task2"
   ]
  },
  {
   "cell_type": "code",
   "execution_count": 8,
   "id": "d660f0bf-d621-4893-a89a-ed6a9dc5714c",
   "metadata": {},
   "outputs": [],
   "source": [
    "selected_lines_RDD = filtered_RDD.filter(lambda line: float(line.split(\"\\t\")[1])> 0.8*maxfreq)"
   ]
  },
  {
   "cell_type": "code",
   "execution_count": null,
   "id": "e5b954a1-c47a-42a5-957c-7982e9a0e55d",
   "metadata": {
    "tags": []
   },
   "outputs": [
    {
     "name": "stderr",
     "output_type": "stream",
     "text": [
      "                                                                                \r"
     ]
    },
    {
     "data": {
      "text/plain": [
       "['hot\\t36599', 'how\\t39399', 'however\\t33304']"
      ]
     },
     "execution_count": 71,
     "metadata": {},
     "output_type": "execute_result"
    }
   ],
   "source": [
    "#selected_lines_RDD.collect()"
   ]
  },
  {
   "cell_type": "code",
   "execution_count": 11,
   "id": "77045057-bd26-4830-8bef-971bf4a89ef1",
   "metadata": {},
   "outputs": [
    {
     "name": "stdout",
     "output_type": "stream",
     "text": [
      "Number of selected lines with freq > 0.8 * maxfreq: 3\n"
     ]
    }
   ],
   "source": [
    "num_selected_lines = selected_lines_RDD.count()\n",
    "print(\"Number of selected lines with freq > 0.8 * maxfreq: \"+ str(num_selected_lines) ) "
   ]
  },
  {
   "cell_type": "code",
   "execution_count": 16,
   "id": "08850385-f954-441b-a4d9-a50408912d6f",
   "metadata": {},
   "outputs": [],
   "source": [
    "selected_lines_keys_RDD = selected_lines_RDD.map(lambda line: line.split(\"\\t\")[0])"
   ]
  },
  {
   "cell_type": "code",
   "execution_count": 17,
   "id": "0bee64fc-48da-418c-ac9e-044b2672d32a",
   "metadata": {},
   "outputs": [
    {
     "name": "stderr",
     "output_type": "stream",
     "text": [
      "                                                                                \r"
     ]
    }
   ],
   "source": [
    "selected_lines_keys_RDD.saveAsTextFile(\"Spark_Output/Output_Lab5_2\")"
   ]
  },
  {
   "cell_type": "code",
   "execution_count": null,
   "id": "0f85cdb6-179a-4614-a0c4-aeaa9a13a0e9",
   "metadata": {},
   "outputs": [],
   "source": [
    "#Task3"
   ]
  },
  {
   "cell_type": "code",
   "execution_count": 49,
   "id": "b7982d9c-ca2d-4140-868f-bede51f89d26",
   "metadata": {},
   "outputs": [],
   "source": [
    "def Groouping(line):\n",
    "    fields = line.split(\"\\t\")\n",
    "    freq = int(fields[1])\n",
    "    if(freq >= 500):\n",
    "        group = 5\n",
    "    else:\n",
    "        group = freq // 100\n",
    "    return (\"Group\" + str(group), 1)\n"
   ]
  },
  {
   "cell_type": "code",
   "execution_count": null,
   "id": "0cd7aa58-6233-4ceb-9e1e-bfa289b9a9fb",
   "metadata": {},
   "outputs": [],
   "source": [
    "group_division_RDD = input_RDD.map(Groouping)\n",
    "grouped_RDD = group_division_RDD.reduceByKey(lambda v1, v2: v1 + v2)"
   ]
  },
  {
   "cell_type": "code",
   "execution_count": null,
   "id": "634e5f3e-4d19-42d1-bb7c-3b761e46b15c",
   "metadata": {},
   "outputs": [
    {
     "name": "stderr",
     "output_type": "stream",
     "text": [
      "                                                                                \r"
     ]
    }
   ],
   "source": [
    "#grouped_RDD.saveAsTextFile(\"Spark_Output/Output_Lab5_3\")"
   ]
  }
 ],
 "metadata": {
  "kernelspec": {
   "display_name": "PySpark (Yarn)",
   "language": "python",
   "name": "pyspark_yarn"
  },
  "language_info": {
   "codemirror_mode": {
    "name": "ipython",
    "version": 3
   },
   "file_extension": ".py",
   "mimetype": "text/x-python",
   "name": "python",
   "nbconvert_exporter": "python",
   "pygments_lexer": "ipython3",
   "version": "3.7.12"
  }
 },
 "nbformat": 4,
 "nbformat_minor": 5
}
