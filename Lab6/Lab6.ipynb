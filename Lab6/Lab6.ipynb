{
 "cells": [
  {
   "cell_type": "code",
   "execution_count": 1,
   "id": "52486c26-ff29-4951-9ffa-83b572456ef8",
   "metadata": {},
   "outputs": [],
   "source": [
    "input_RDD = sc.textFile(\"/data/students/bigdata-01QYD/Lab6_DBD/Reviews.csv\")"
   ]
  },
  {
   "cell_type": "code",
   "execution_count": 2,
   "id": "25caa17f-e998-43c5-b9a0-98f45fe78a85",
   "metadata": {},
   "outputs": [],
   "source": [
    "def get_userID_userProcucts(line):\n",
    "    fields = line.split(\",\")\n",
    "    #userID = fields[2]\n",
    "    #uderProduct = fields[1]\n",
    "    \n",
    "    return (fields[2], fields[1])\n",
    "    "
   ]
  },
  {
   "cell_type": "code",
   "execution_count": 3,
   "id": "05135187-b70d-498a-94be-ea558a284cdc",
   "metadata": {},
   "outputs": [],
   "source": [
    "input_without_header_RDD = input_RDD.filter(lambda line: \"Id,ProductId,UserId,ProfileName,HelpfulnessNumerator,HelpfulnessDenominator,Score,Time,Summary,Text\" not in line)"
   ]
  },
  {
   "cell_type": "code",
   "execution_count": 4,
   "id": "694d229e-8ed9-4ab8-9599-53171d8dee5a",
   "metadata": {},
   "outputs": [],
   "source": [
    "pairs_RDD = input_without_header_RDD.map(get_userID_userProcucts)"
   ]
  },
  {
   "cell_type": "code",
   "execution_count": 5,
   "id": "8c5622fe-0a8c-450a-9a1a-efbc5dd56865",
   "metadata": {},
   "outputs": [],
   "source": [
    "#pairs_RDD.top(5)"
   ]
  },
  {
   "cell_type": "code",
   "execution_count": 6,
   "id": "7561a7b3-34c7-474b-8392-e92a717e42dc",
   "metadata": {},
   "outputs": [],
   "source": [
    "grouped_iterable_RDD = pairs_RDD.distinct().groupByKey()"
   ]
  },
  {
   "cell_type": "code",
   "execution_count": 7,
   "id": "0052cfc3-b0fb-4716-9a65-98cf36bdfa89",
   "metadata": {},
   "outputs": [
    {
     "name": "stderr",
     "output_type": "stream",
     "text": [
      "[Stage 1:>                                                          (0 + 3) / 3]"
     ]
    },
    {
     "name": "stdout",
     "output_type": "stream",
     "text": [
      "[('A395BORC6FGVXV', ['B000UA0QIQ', 'B002Y7526Y', 'B000U9WZ54']), ('AZOF9E17RGZH8', ['B001GVISJM', 'B001I8EW5C']), ('A2EB6OGOWCRU5H', ['B001EO5QW8']), ('A2GHZ2UTV2B0CD', ['B001EO5QW8', 'B0000TA3QM']), ('A3TWF9DQ6MU87E', ['B005DUM9UQ']), ('AZLONLC8OZPEC', ['B0066DMI6Y']), ('A2VOZX7YBT0D6D', ['B003ZFRKGO', 'B0000V1BKM', 'B000ILA4KW']), ('A3AF72GP4GVRY1', ['B0019CW0HE', 'B001EX42JM']), ('A1DJAAKLPCJRZD', ['B0019CW0HE']), ('A3D1TXE98KRKYO', ['B004K2IHUO', 'B006L4FNB0', 'B00115FPV2', 'B009AVD282', 'B00815FR68', 'B006L4FMR0', 'B002Y1CVZU', 'B000PKMN14'])]\n"
     ]
    },
    {
     "name": "stderr",
     "output_type": "stream",
     "text": [
      "                                                                                \r"
     ]
    }
   ],
   "source": [
    "#I have to do this to visualize my data because transformation are lazy \n",
    "# Materialize the grouped data\n",
    "grouped_RDD = grouped_iterable_RDD.mapValues(list)\n",
    "\n",
    "# Collect and print the grouped data\n",
    "print(grouped_RDD.take(10))"
   ]
  },
  {
   "cell_type": "code",
   "execution_count": 8,
   "id": "e13fa6ee-e916-49a3-b4e7-5fa36fdf7169",
   "metadata": {},
   "outputs": [
    {
     "data": {
      "text/plain": [
       "PythonRDD[11] at RDD at PythonRDD.scala:53"
      ]
     },
     "execution_count": 8,
     "metadata": {},
     "output_type": "execute_result"
    }
   ],
   "source": [
    "grouped_RDD.values()"
   ]
  },
  {
   "cell_type": "code",
   "execution_count": 9,
   "id": "e727f3cb-9b3c-4b38-bccb-6883cc8137b6",
   "metadata": {},
   "outputs": [],
   "source": [
    "def pairs_of_products_reviewed_together(line):\n",
    "    products = line[1]\n",
    "    Couples = []\n",
    "    for i in range(len(products)):\n",
    "        for j in range(i+1,len(products)):\n",
    "            if products[i]<products[j]:\n",
    "                Couples.append(((products[i], products[j]), 1))\n",
    "            else:\n",
    "                 Couples.append(((products[j], products[i]), 1))\n",
    "    return Couples\n",
    "\n",
    "\n",
    "            "
   ]
  },
  {
   "cell_type": "code",
   "execution_count": 10,
   "id": "37311c8d-8c8f-4b0a-9c4d-612f569ca8b7",
   "metadata": {},
   "outputs": [],
   "source": [
    "products_RDD = grouped_RDD.flatMap(pairs_of_products_reviewed_together)"
   ]
  },
  {
   "cell_type": "code",
   "execution_count": 11,
   "id": "f00f7ac9-ef3b-49dd-a1ea-4a752e1f9abc",
   "metadata": {},
   "outputs": [
    {
     "data": {
      "text/plain": [
       "[(('B000UA0QIQ', 'B002Y7526Y'), 1),\n",
       " (('B000U9WZ54', 'B000UA0QIQ'), 1),\n",
       " (('B000U9WZ54', 'B002Y7526Y'), 1),\n",
       " (('B001GVISJM', 'B001I8EW5C'), 1),\n",
       " (('B0000TA3QM', 'B001EO5QW8'), 1),\n",
       " (('B0000V1BKM', 'B003ZFRKGO'), 1),\n",
       " (('B000ILA4KW', 'B003ZFRKGO'), 1),\n",
       " (('B0000V1BKM', 'B000ILA4KW'), 1),\n",
       " (('B0019CW0HE', 'B001EX42JM'), 1),\n",
       " (('B004K2IHUO', 'B006L4FNB0'), 1)]"
      ]
     },
     "execution_count": 11,
     "metadata": {},
     "output_type": "execute_result"
    }
   ],
   "source": [
    "products_RDD.take(10)"
   ]
  },
  {
   "cell_type": "code",
   "execution_count": 12,
   "id": "d7d7162d-1fa0-4eb7-b768-f0a6f9ea15d0",
   "metadata": {},
   "outputs": [],
   "source": [
    "products_pairs_RDD = products_RDD.reduceByKey(lambda v1, v2: v1 + v2)"
   ]
  },
  {
   "cell_type": "code",
   "execution_count": 13,
   "id": "606129dc-785f-4801-a5e4-77f5a879817a",
   "metadata": {},
   "outputs": [
    {
     "name": "stderr",
     "output_type": "stream",
     "text": [
      "                                                                                \r"
     ]
    },
    {
     "data": {
      "text/plain": [
       "[(('B0000V1BKM', 'B003ZFRKGO'), 1),\n",
       " (('B0019CW0HE', 'B001EX42JM'), 1),\n",
       " (('B00115FPV2', 'B004K2IHUO'), 1),\n",
       " (('B004K2IHUO', 'B00815FR68'), 7),\n",
       " (('B00115FPV2', 'B006L4FNB0'), 1),\n",
       " (('B006L4FNB0', 'B00815FR68'), 7),\n",
       " (('B00115FPV2', 'B006L4FMR0'), 1),\n",
       " (('B006L4FMR0', 'B009AVD282'), 7),\n",
       " (('B002Y1CVZU', 'B00815FR68'), 7),\n",
       " (('B002Y1CVZU', 'B006L4FMR0'), 7)]"
      ]
     },
     "execution_count": 13,
     "metadata": {},
     "output_type": "execute_result"
    }
   ],
   "source": [
    "products_pairs_RDD.take(10)"
   ]
  },
  {
   "cell_type": "code",
   "execution_count": 14,
   "id": "48a0a0c6-374c-460f-a7db-9b22563fcb61",
   "metadata": {},
   "outputs": [],
   "source": [
    "filtered_products_RDD = products_pairs_RDD.filter(lambda l: l[1]>1)"
   ]
  },
  {
   "cell_type": "code",
   "execution_count": 15,
   "id": "ca356113-fe9b-4c00-93b7-baa198602120",
   "metadata": {},
   "outputs": [
    {
     "name": "stderr",
     "output_type": "stream",
     "text": [
      "                                                                                \r"
     ]
    }
   ],
   "source": [
    "sorted_RDD = filtered_products_RDD.sortBy(lambda l: l[1], False)"
   ]
  },
  {
   "cell_type": "code",
   "execution_count": 16,
   "id": "eb5e8f07-a3b4-429c-8619-5d87e242c952",
   "metadata": {},
   "outputs": [
    {
     "name": "stderr",
     "output_type": "stream",
     "text": [
      "                                                                                \r"
     ]
    },
    {
     "data": {
      "text/plain": [
       "[(('B002QWHJOU', 'B002QWP89S'), 608),\n",
       " (('B0026RQTGE', 'B002QWP8H0'), 608),\n",
       " (('B002QWHJOU', 'B002QWP8H0'), 608),\n",
       " (('B0026RQTGE', 'B002QWP89S'), 608),\n",
       " (('B002QWP89S', 'B002QWP8H0'), 608),\n",
       " (('B0026RQTGE', 'B002QWHJOU'), 608),\n",
       " (('B000KV61FC', 'B000KV7ZGQ'), 555),\n",
       " (('B0026KNQSA', 'B006HYLW32'), 551),\n",
       " (('B001RVFEP2', 'B0026KNQSA'), 551),\n",
       " (('B001RVFERK', 'B0026KPDG8'), 551)]"
      ]
     },
     "execution_count": 16,
     "metadata": {},
     "output_type": "execute_result"
    }
   ],
   "source": [
    "sorted_RDD.take(10)"
   ]
  },
  {
   "cell_type": "code",
   "execution_count": 17,
   "id": "7da535a5-4cef-4e42-9aad-5cc711868b74",
   "metadata": {},
   "outputs": [],
   "source": [
    "#sorted_RDD.saveAsTextFile(\"Spark_Output/Output_Lab6_1\")"
   ]
  },
  {
   "cell_type": "code",
   "execution_count": 19,
   "id": "c7d77ad3-9005-47a3-be0f-12311a2b2782",
   "metadata": {},
   "outputs": [],
   "source": [
    "maxfreq = sorted_RDD.first()"
   ]
  },
  {
   "cell_type": "code",
   "execution_count": 21,
   "id": "09b526fb-10ef-4d64-b592-b0fd9e74896b",
   "metadata": {},
   "outputs": [
    {
     "data": {
      "text/plain": [
       "(('B002QWHJOU', 'B002QWP89S'), 608)"
      ]
     },
     "execution_count": 21,
     "metadata": {},
     "output_type": "execute_result"
    }
   ],
   "source": [
    "maxfreq"
   ]
  },
  {
   "cell_type": "code",
   "execution_count": null,
   "id": "e11ecdb5-10d6-47a0-853a-faf0a0aa7539",
   "metadata": {},
   "outputs": [],
   "source": []
  }
 ],
 "metadata": {
  "kernelspec": {
   "display_name": "PySpark (Local)",
   "language": "python",
   "name": "pyspark_local"
  },
  "language_info": {
   "codemirror_mode": {
    "name": "ipython",
    "version": 3
   },
   "file_extension": ".py",
   "mimetype": "text/x-python",
   "name": "python",
   "nbconvert_exporter": "python",
   "pygments_lexer": "ipython3",
   "version": "3.7.12"
  }
 },
 "nbformat": 4,
 "nbformat_minor": 5
}
